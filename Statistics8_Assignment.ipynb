{
 "cells": [
  {
   "cell_type": "code",
   "execution_count": null,
   "id": "ddeb24ac-59ca-48ba-af10-5815ce97021a",
   "metadata": {},
   "outputs": [],
   "source": [
    "# Q1. Explain the assumptions required to use ANOVA and provide examples of violations that could impact\n",
    "# the validity of the results.\n",
    "Ans.\n",
    "Assumptions in Annova\n",
    "1. Normality of sampling distribution : It means the distribution of sample mean is normally distributed.\n",
    "2. Absence of outilers : Outlying score need to be removed from dataset.\n",
    "3. Homogenity of variance : Each one of the population has some variance. Population variance in different\n",
    "levels of each independent variable are equal.\n",
    "4. Random sampling: The data should be collected using random sampling methods to ensure that the sample is\n",
    "representative of the population.\n",
    "\n",
    "Examples of violations and their impacts:\n",
    "1. Non-normality: If the data is not normally distributed, the F-statistic from ANOVA may not be accurate. This\n",
    "could lead to an incorrect conclusion about the significance of the results.\n",
    "2. Non-independence: If the data points are not independent, the F-statistic from ANOVA may not be accurate. This\n",
    "could lead to an incorrect conclusion about the significance of the results.\n",
    "3. Heteroscedasticity: When the assumption of homogeneity of variance is violated, meaning that the variances differ\n",
    "significantly between groups, the ANOVA results may become unreliable. This could result in incorrect assessments of \n",
    "group differences.\n",
    "4. Small sample sizes: If the sample sizes are too small, the F-statistic from ANOVA may not be accurate. This could\n",
    "lead to an incorrect conclusion about the significance of the results."
   ]
  },
  {
   "cell_type": "code",
   "execution_count": null,
   "id": "91e40332-c4c5-410e-a332-22d9b33a6fa4",
   "metadata": {},
   "outputs": [],
   "source": [
    "# Q2. What are the three types of ANOVA, and in what situations would each be used?\n",
    "Ans.\n",
    "There are three types of anova is :\n",
    "1. One-way ANOVA: This is the simplest type of ANOVA and is used to compare the means of two or more groups. \n",
    "For example, you could use one-way ANOVA to compare the average scores of students who received different types of tutoring.\n",
    "\n",
    "2. Two-way ANOVA: This type of ANOVA is used to compare the means of two or more groups while controlling for the effects\n",
    "of another variable. For example, you could use two-way ANOVA to compare the average scores of students who received \n",
    "different types of tutoring and who also came from different schools.\n",
    "\n",
    "3. N-way ANOVA: This type of ANOVA is used to compare the means of two or more groups while controlling for the effects of\n",
    "two or more other variables. For example, you could use N-way ANOVA to compare the average scores of students who received\n",
    "different types of tutoring, who also came from different schools, and who also had different levels of prior knowledge.\n",
    "\n",
    "The situations where these types is used:\n",
    "1. One-way ANOVA is used to Compares the means of two or more groups.\n",
    "2. Two-way ANOVA is used to Compares the means of two or more groups while taking into account the effect of another variable.\n",
    "3. N-way ANOVA\tis used to Compares the means of two or more groups while taking into account the effect of multiple variables."
   ]
  },
  {
   "cell_type": "code",
   "execution_count": null,
   "id": "19c5a9c5-7c40-47d6-a2e6-2e9334499b9f",
   "metadata": {},
   "outputs": [],
   "source": [
    "# Q3. What is the partitioning of variance in ANOVA, and why is it important to understand this concept?\n",
    "Ans.\n",
    "The partitioning of variance in ANOVA is the process of dividing the total variance in a data set into two components:\n",
    "1. Between-group variance: This component of variance represents the variation between the means of the different groups.\n",
    "2. Within-group variance: This component of variance represents the variation within each group.\n",
    "\n",
    "The partitioning of variance is important to understand because it allows us to test the hypothesis that the different levels\n",
    "of the independent variable have a significant effect on the dependent variable. The F-statistic that is calculated in an ANOVA\n",
    "test is a ratio of the between-groups variance to the within-groups variance. If the F-statistic is large enough, then we can\n",
    "conclude that the different levels of the independent variable do have a significant effect on the dependent variable."
   ]
  },
  {
   "cell_type": "code",
   "execution_count": 64,
   "id": "b288e369-5851-43e8-b24c-f44301877808",
   "metadata": {},
   "outputs": [],
   "source": [
    "# Q4. How would you calculate the total sum of squares (SST), explained sum of squares (SSE), and residual\n",
    "# sum of squares (SSR) in a one-way ANOVA using Python?\n",
    "import numpy as np\n",
    "import scipy.stats as stat\n",
    "\n",
    "group_1 = [9,8,7,8]\n",
    "group_2 = [7,6,6,7]\n",
    "group_3 = [4,3,2,3]"
   ]
  },
  {
   "cell_type": "code",
   "execution_count": 66,
   "id": "e54ec145-a02a-460d-9429-d2366baf01c5",
   "metadata": {},
   "outputs": [
    {
     "data": {
      "text/plain": [
       "array([9, 8, 7, 8, 7, 6, 6, 7, 4, 3, 2, 3])"
      ]
     },
     "execution_count": 66,
     "metadata": {},
     "output_type": "execute_result"
    }
   ],
   "source": [
    "data = np.array(group_1 + group_2 + group_3)\n",
    "data"
   ]
  },
  {
   "cell_type": "code",
   "execution_count": 67,
   "id": "71898ef8-a237-410f-87bb-1299289e0d55",
   "metadata": {},
   "outputs": [
    {
     "data": {
      "text/plain": [
       "5.833333333333333"
      ]
     },
     "execution_count": 67,
     "metadata": {},
     "output_type": "execute_result"
    }
   ],
   "source": [
    "mean = np.mean(data)\n",
    "mean"
   ]
  },
  {
   "cell_type": "code",
   "execution_count": 68,
   "id": "92acbd3b-bd80-4174-aa09-05723e712e6a",
   "metadata": {},
   "outputs": [
    {
     "data": {
      "text/plain": [
       "57.66666666666667"
      ]
     },
     "execution_count": 68,
     "metadata": {},
     "output_type": "execute_result"
    }
   ],
   "source": [
    "sst = np.sum((data - mean)**2)\n",
    "sst"
   ]
  },
  {
   "cell_type": "code",
   "execution_count": 71,
   "id": "f729fdf1-53ff-4300-867f-3175b2adadc5",
   "metadata": {},
   "outputs": [
    {
     "data": {
      "text/plain": [
       "17.5"
      ]
     },
     "execution_count": 71,
     "metadata": {},
     "output_type": "execute_result"
    }
   ],
   "source": [
    "group_mean = (np.mean(group_1) + np.mean(group_2) + np.mean(group_3))\n",
    "group_mean"
   ]
  },
  {
   "cell_type": "code",
   "execution_count": 69,
   "id": "56bb4b99-b187-42d4-8ba4-b658d40f8f94",
   "metadata": {},
   "outputs": [
    {
     "data": {
      "text/plain": [
       "9527.777777777781"
      ]
     },
     "execution_count": 69,
     "metadata": {},
     "output_type": "execute_result"
    }
   ],
   "source": [
    "sse = np.sum(data * (group_mean - mean) ** 2)\n",
    "sse"
   ]
  },
  {
   "cell_type": "code",
   "execution_count": 70,
   "id": "dd14d84e-72af-4a7b-b5e7-519be6f492eb",
   "metadata": {},
   "outputs": [
    {
     "data": {
      "text/plain": [
       "-9470.111111111115"
      ]
     },
     "execution_count": 70,
     "metadata": {},
     "output_type": "execute_result"
    }
   ],
   "source": [
    "ssr = sst - sse\n",
    "ssr"
   ]
  },
  {
   "cell_type": "code",
   "execution_count": 20,
   "id": "8835ffb3-1078-4d1e-bf75-3bb520228fca",
   "metadata": {},
   "outputs": [],
   "source": [
    "# Q5. In a two-way ANOVA, how would you calculate the main effects and interaction effects using Python?\n",
    "import pandas as pd\n",
    "import statsmodels.api as sm\n",
    "from statsmodels.formula.api import ols"
   ]
  },
  {
   "cell_type": "code",
   "execution_count": 21,
   "id": "f140f76b-3ab0-407a-a17a-db8ad3ea8004",
   "metadata": {},
   "outputs": [],
   "source": [
    "# Example data for a two-way ANOVA\n",
    "data = {\n",
    "    'Factor1': [1, 2, 1, 2, 1, 2],\n",
    "    'Factor2': ['A', 'A', 'B', 'B', 'C', 'C'],\n",
    "    'Response': [10, 12, 8, 14, 9, 15]\n",
    "}\n",
    "\n",
    "df = pd.DataFrame(data)"
   ]
  },
  {
   "cell_type": "code",
   "execution_count": 22,
   "id": "6cffae32-674e-4a2d-a624-f7cefd0f2a2b",
   "metadata": {},
   "outputs": [
    {
     "name": "stderr",
     "output_type": "stream",
     "text": [
      "/opt/conda/lib/python3.10/site-packages/statsmodels/stats/anova.py:138: RuntimeWarning: divide by zero encountered in double_scalars\n",
      "  (model.ssr / model.df_resid))\n"
     ]
    },
    {
     "data": {
      "text/html": [
       "<div>\n",
       "<style scoped>\n",
       "    .dataframe tbody tr th:only-of-type {\n",
       "        vertical-align: middle;\n",
       "    }\n",
       "\n",
       "    .dataframe tbody tr th {\n",
       "        vertical-align: top;\n",
       "    }\n",
       "\n",
       "    .dataframe thead th {\n",
       "        text-align: right;\n",
       "    }\n",
       "</style>\n",
       "<table border=\"1\" class=\"dataframe\">\n",
       "  <thead>\n",
       "    <tr style=\"text-align: right;\">\n",
       "      <th></th>\n",
       "      <th>df</th>\n",
       "      <th>sum_sq</th>\n",
       "      <th>mean_sq</th>\n",
       "      <th>F</th>\n",
       "      <th>PR(&gt;F)</th>\n",
       "    </tr>\n",
       "  </thead>\n",
       "  <tbody>\n",
       "    <tr>\n",
       "      <th>C(Factor1)</th>\n",
       "      <td>1.0</td>\n",
       "      <td>3.266667e+01</td>\n",
       "      <td>32.666667</td>\n",
       "      <td>0.0</td>\n",
       "      <td>NaN</td>\n",
       "    </tr>\n",
       "    <tr>\n",
       "      <th>C(Factor2)</th>\n",
       "      <td>2.0</td>\n",
       "      <td>1.333333e+00</td>\n",
       "      <td>0.666667</td>\n",
       "      <td>0.0</td>\n",
       "      <td>NaN</td>\n",
       "    </tr>\n",
       "    <tr>\n",
       "      <th>C(Factor1):C(Factor2)</th>\n",
       "      <td>2.0</td>\n",
       "      <td>5.333333e+00</td>\n",
       "      <td>2.666667</td>\n",
       "      <td>0.0</td>\n",
       "      <td>NaN</td>\n",
       "    </tr>\n",
       "    <tr>\n",
       "      <th>Residual</th>\n",
       "      <td>0.0</td>\n",
       "      <td>4.764720e-28</td>\n",
       "      <td>inf</td>\n",
       "      <td>NaN</td>\n",
       "      <td>NaN</td>\n",
       "    </tr>\n",
       "  </tbody>\n",
       "</table>\n",
       "</div>"
      ],
      "text/plain": [
       "                        df        sum_sq    mean_sq    F  PR(>F)\n",
       "C(Factor1)             1.0  3.266667e+01  32.666667  0.0     NaN\n",
       "C(Factor2)             2.0  1.333333e+00   0.666667  0.0     NaN\n",
       "C(Factor1):C(Factor2)  2.0  5.333333e+00   2.666667  0.0     NaN\n",
       "Residual               0.0  4.764720e-28        inf  NaN     NaN"
      ]
     },
     "execution_count": 22,
     "metadata": {},
     "output_type": "execute_result"
    }
   ],
   "source": [
    "formula = 'Response ~ C(Factor1) + C(Factor2) + C(Factor1):C(Factor2)'\n",
    "model = ols(formula, data=df).fit()\n",
    "anova_table = sm.stats.anova_lm(model)\n",
    "anova_table"
   ]
  },
  {
   "cell_type": "code",
   "execution_count": 26,
   "id": "b15ca29e-13d9-4d7b-82aa-4dd892ffcf8d",
   "metadata": {},
   "outputs": [
    {
     "name": "stdout",
     "output_type": "stream",
     "text": [
      "The main-effect of factor_1 : 32.66666666666664\n",
      "The main-effect of factor_2 : 1.3333333333333277\n",
      "The interaction effect : 5.333333333333343\n"
     ]
    }
   ],
   "source": [
    "main_effect_factor1 = anova_table['sum_sq']['C(Factor1)']\n",
    "main_effect_factor2 = anova_table['sum_sq']['C(Factor2)']\n",
    "interaction_effect = anova_table['sum_sq']['C(Factor1):C(Factor2)']\n",
    "print(\"The main-effect of factor_1 :\",main_effect_factor1)\n",
    "print(\"The main-effect of factor_2 :\",main_effect_factor2)\n",
    "print(\"The interaction effect :\",interaction_effect)"
   ]
  },
  {
   "cell_type": "code",
   "execution_count": null,
   "id": "3a6935dd-b655-4080-8794-9d8ca82afed2",
   "metadata": {},
   "outputs": [],
   "source": [
    "# Q6. Suppose you conducted a one-way ANOVA and obtained an F-statistic of 5.23 and a p-value of 0.02.\n",
    "# What can you conclude about the differences between the groups, and how would you interpret these\n",
    "# results?\n",
    "Ans.\n",
    "The one-way ANOVA resulted in a statistically significant difference between the groups (F-statistic = 5.23, \n",
    "p-value = 0.02). This means that at least two of the groups have significantly different means. Further post-hoc\n",
    "tests can be conducted to identify the specific group differences."
   ]
  },
  {
   "cell_type": "code",
   "execution_count": null,
   "id": "e0a91cba-fbf4-4a3b-a542-08f823b0bc4d",
   "metadata": {},
   "outputs": [],
   "source": [
    "# Q7. In a repeated measures ANOVA, how would you handle missing data, and what are the potential\n",
    "# consequences of using different methods to handle missing data?\n",
    "Ans.\n",
    "There are three main methods for handling missing data in a repeated measures ANOVA: \n",
    "1. Listwise deletion: This method deletes any participant with missing data for any of the variables. This can\n",
    "lead to a loss of power, as you are effectively reducing the sample size.\n",
    "2. pairwise deletion : This method analyzes each variable separately, and any participant with missing data for a\n",
    "particular variable is dropped from the analysis for that variable.\n",
    "3. Imputation: This method involves replacing the missing data with estimated values. There are a number of different \n",
    "imputation methods that can be used, such as mean imputation, regression imputation, and multiple imputation."
   ]
  },
  {
   "cell_type": "code",
   "execution_count": null,
   "id": "1c712c05-6bee-41db-a5b6-1c4a95956139",
   "metadata": {},
   "outputs": [],
   "source": [
    "# Q8. What are some common post-hoc tests used after ANOVA, and when would you use each one? Provide\n",
    "# an example of a situation where a post-hoc test might be necessary.\n",
    "Ans.\n",
    "There are some common post-hoc tests used after ANOVA:\n",
    "1. Tukeys HSD test: This test is a conservative test that is commonly used when the groups have equal sample sizes.\n",
    "2. Bonferroni test: This test is a more liberal test that is commonly used when the groups have unequal sample sizes.\n",
    "3. Scheffé test: This test is a powerful test that can be used when the groups have unequal sample sizes.\n",
    "\n",
    "Post-hoc tests are used to determine which pairs of means are significantly different after an ANOVA has found a \n",
    "significant difference between the overall means of the groups.\n",
    "\n",
    "Example \n",
    "Lets say you conduct an ANOVA to compare the scores of three different groups on a test. The ANOVA finds a significant\n",
    "difference between the overall means of the groups. You can then use a post-hoc test to determine which pairs of groups\n",
    "have significantly different scores."
   ]
  },
  {
   "cell_type": "code",
   "execution_count": 2,
   "id": "bfbb1bd7-0115-4a6c-8d3b-ec5396829355",
   "metadata": {},
   "outputs": [],
   "source": [
    "# Q9. A researcher wants to compare the mean weight loss of three diets: A, B, and C. They collect data from\n",
    "# 50 participants who were randomly assigned to one of the diets. Conduct a one-way ANOVA using Python\n",
    "# to determine if there are any significant differences between the mean weight loss of the three diets.\n",
    "# Report the F-statistic and p-value, and interpret the results.\n",
    "\n",
    "import numpy as np\n",
    "import scipy.stats as stat\n",
    "\n",
    "A = [2,3,4,5,6,3,5,7,8,4,8,9,3,5,9,5]\n",
    "B = [2,3,5,7,6,3,9,8,4,6,2,3,1,6,9,8]\n",
    "C = [2,3,4,5,8,3,8,2,3,10,9,4,8,4,5,11]"
   ]
  },
  {
   "cell_type": "code",
   "execution_count": 3,
   "id": "9d9f6d65-8c4e-48d4-974b-975beb94fe47",
   "metadata": {},
   "outputs": [
    {
     "data": {
      "text/plain": [
       "array([ 2,  3,  4,  5,  6,  3,  5,  7,  8,  4,  8,  9,  3,  5,  9,  5,  2,\n",
       "        3,  5,  7,  6,  3,  9,  8,  4,  6,  2,  3,  1,  6,  9,  8,  2,  3,\n",
       "        4,  5,  8,  3,  8,  2,  3, 10,  9,  4,  8,  4,  5, 11])"
      ]
     },
     "execution_count": 3,
     "metadata": {},
     "output_type": "execute_result"
    }
   ],
   "source": [
    "data = np.array(A + B + C)\n",
    "data"
   ]
  },
  {
   "cell_type": "code",
   "execution_count": 4,
   "id": "b508f7a6-aa6c-4a10-a347-562af924838c",
   "metadata": {},
   "outputs": [],
   "source": [
    "F_Statistic, pvalue = stat.f_oneway(A,B,C)"
   ]
  },
  {
   "cell_type": "code",
   "execution_count": 5,
   "id": "41b83703-6c2e-4a46-b151-50169aca541e",
   "metadata": {},
   "outputs": [
    {
     "data": {
      "text/plain": [
       "(0.11137868753762793, 0.8948457494531394)"
      ]
     },
     "execution_count": 5,
     "metadata": {},
     "output_type": "execute_result"
    }
   ],
   "source": [
    "F_Statistic, pvalue"
   ]
  },
  {
   "cell_type": "code",
   "execution_count": 6,
   "id": "0ba071b5-402c-48d4-af22-d93ae76ad154",
   "metadata": {},
   "outputs": [
    {
     "name": "stdout",
     "output_type": "stream",
     "text": [
      "There is no significant difference between the mean weight loss of the three diets (p >= 0.05).\n"
     ]
    }
   ],
   "source": [
    "if pvalue < 0.05:\n",
    "    print(\"There are significant differences between the mean weight loss of the three diets (p < 0.05).\")\n",
    "else:\n",
    "    print(\"There is no significant difference between the mean weight loss of the three diets (p >= 0.05).\")"
   ]
  },
  {
   "cell_type": "code",
   "execution_count": 23,
   "id": "6b0232a6-3fa0-40db-a866-0ba48693603c",
   "metadata": {},
   "outputs": [
    {
     "data": {
      "text/html": [
       "<div>\n",
       "<style scoped>\n",
       "    .dataframe tbody tr th:only-of-type {\n",
       "        vertical-align: middle;\n",
       "    }\n",
       "\n",
       "    .dataframe tbody tr th {\n",
       "        vertical-align: top;\n",
       "    }\n",
       "\n",
       "    .dataframe thead th {\n",
       "        text-align: right;\n",
       "    }\n",
       "</style>\n",
       "<table border=\"1\" class=\"dataframe\">\n",
       "  <thead>\n",
       "    <tr style=\"text-align: right;\">\n",
       "      <th></th>\n",
       "      <th>Software</th>\n",
       "      <th>Experience</th>\n",
       "      <th>Time</th>\n",
       "    </tr>\n",
       "  </thead>\n",
       "  <tbody>\n",
       "    <tr>\n",
       "      <th>0</th>\n",
       "      <td>A</td>\n",
       "      <td>Novice</td>\n",
       "      <td>15</td>\n",
       "    </tr>\n",
       "    <tr>\n",
       "      <th>1</th>\n",
       "      <td>B</td>\n",
       "      <td>Experienced</td>\n",
       "      <td>12</td>\n",
       "    </tr>\n",
       "    <tr>\n",
       "      <th>2</th>\n",
       "      <td>C</td>\n",
       "      <td>Novice</td>\n",
       "      <td>18</td>\n",
       "    </tr>\n",
       "    <tr>\n",
       "      <th>3</th>\n",
       "      <td>A</td>\n",
       "      <td>Experienced</td>\n",
       "      <td>20</td>\n",
       "    </tr>\n",
       "    <tr>\n",
       "      <th>4</th>\n",
       "      <td>B</td>\n",
       "      <td>Novice</td>\n",
       "      <td>17</td>\n",
       "    </tr>\n",
       "  </tbody>\n",
       "</table>\n",
       "</div>"
      ],
      "text/plain": [
       "  Software   Experience  Time\n",
       "0        A       Novice    15\n",
       "1        B  Experienced    12\n",
       "2        C       Novice    18\n",
       "3        A  Experienced    20\n",
       "4        B       Novice    17"
      ]
     },
     "execution_count": 23,
     "metadata": {},
     "output_type": "execute_result"
    }
   ],
   "source": [
    "# Q10. A company wants to know if there are any significant differences in the average time it takes to\n",
    "# complete a task using three different software programs: Program A, Program B, and Program C. They\n",
    "# randomly assign 30 employees to one of the programs and record the time it takes each employee to\n",
    "# complete the task. Conduct a two-way ANOVA using Python to determine if there are any main effects or\n",
    "# interaction effects between the software programs and employee experience level (novice vs.\n",
    "# experienced). Report the F-statistics and p-values, and interpret the results.\n",
    "\n",
    "import pandas as pd\n",
    "import statsmodels.api as sm\n",
    "from statsmodels.formula.api import ols\n",
    "\n",
    "# Sample data (replace this with your actual data)\n",
    "data = {\n",
    "    'Software': ['A', 'B', 'C'] * 10,\n",
    "    'Experience': ['Novice', 'Experienced'] * 15,\n",
    "    'Time': [15, 12, 18, 20, 17, 22, 25, 24, 20, 23, 30, 28, 18, 22, 20,\n",
    "             12, 10, 15, 14, 16, 11, 8, 9, 12, 11, 16, 14, 17, 15, 19]\n",
    "}\n",
    "\n",
    "# Create a DataFrame from the sample data\n",
    "df = pd.DataFrame(data)\n",
    "df.head()"
   ]
  },
  {
   "cell_type": "code",
   "execution_count": 28,
   "id": "ab138b20-eb75-45cf-8f18-42e645147599",
   "metadata": {},
   "outputs": [],
   "source": [
    "df['Experience'] = pd.Categorical(df['Experience'])"
   ]
  },
  {
   "cell_type": "code",
   "execution_count": 29,
   "id": "b5b5cf35-6d0a-49be-977b-2a16c147339e",
   "metadata": {},
   "outputs": [],
   "source": [
    "# Perform two-way ANOVA\n",
    "formula = 'Time ~ Software + Experience + Software*Experience'\n",
    "model = ols(formula, data=df).fit()"
   ]
  },
  {
   "cell_type": "code",
   "execution_count": 30,
   "id": "c83acc69-076e-4a24-9cd1-8480df9a7461",
   "metadata": {},
   "outputs": [
    {
     "data": {
      "text/html": [
       "<div>\n",
       "<style scoped>\n",
       "    .dataframe tbody tr th:only-of-type {\n",
       "        vertical-align: middle;\n",
       "    }\n",
       "\n",
       "    .dataframe tbody tr th {\n",
       "        vertical-align: top;\n",
       "    }\n",
       "\n",
       "    .dataframe thead th {\n",
       "        text-align: right;\n",
       "    }\n",
       "</style>\n",
       "<table border=\"1\" class=\"dataframe\">\n",
       "  <thead>\n",
       "    <tr style=\"text-align: right;\">\n",
       "      <th></th>\n",
       "      <th>sum_sq</th>\n",
       "      <th>df</th>\n",
       "      <th>F</th>\n",
       "      <th>PR(&gt;F)</th>\n",
       "    </tr>\n",
       "  </thead>\n",
       "  <tbody>\n",
       "    <tr>\n",
       "      <th>Software</th>\n",
       "      <td>12.800000</td>\n",
       "      <td>2.0</td>\n",
       "      <td>0.179439</td>\n",
       "      <td>0.836850</td>\n",
       "    </tr>\n",
       "    <tr>\n",
       "      <th>Experience</th>\n",
       "      <td>12.033333</td>\n",
       "      <td>1.0</td>\n",
       "      <td>0.337383</td>\n",
       "      <td>0.566759</td>\n",
       "    </tr>\n",
       "    <tr>\n",
       "      <th>Software:Experience</th>\n",
       "      <td>13.866667</td>\n",
       "      <td>2.0</td>\n",
       "      <td>0.194393</td>\n",
       "      <td>0.824618</td>\n",
       "    </tr>\n",
       "    <tr>\n",
       "      <th>Residual</th>\n",
       "      <td>856.000000</td>\n",
       "      <td>24.0</td>\n",
       "      <td>NaN</td>\n",
       "      <td>NaN</td>\n",
       "    </tr>\n",
       "  </tbody>\n",
       "</table>\n",
       "</div>"
      ],
      "text/plain": [
       "                         sum_sq    df         F    PR(>F)\n",
       "Software              12.800000   2.0  0.179439  0.836850\n",
       "Experience            12.033333   1.0  0.337383  0.566759\n",
       "Software:Experience   13.866667   2.0  0.194393  0.824618\n",
       "Residual             856.000000  24.0       NaN       NaN"
      ]
     },
     "execution_count": 30,
     "metadata": {},
     "output_type": "execute_result"
    }
   ],
   "source": [
    "anova = sm.stats.anova_lm(model,typ=2)\n",
    "anova"
   ]
  },
  {
   "cell_type": "code",
   "execution_count": 58,
   "id": "e66a6eeb-c4dd-48fe-aa46-23fbd0170f5c",
   "metadata": {},
   "outputs": [
    {
     "name": "stdout",
     "output_type": "stream",
     "text": [
      "T statistics : 4.677309775106022\n",
      "P value : 5.374467719567181e-06\n",
      "The difference between the control and experimental groups is statistically significant.\n",
      "\n",
      "Post-hoc test (Tukey's HSD) results:\n",
      "   Multiple Comparison of Means - Tukey HSD, FWER=0.05    \n",
      "==========================================================\n",
      " group1    group2    meandiff p-adj  lower   upper  reject\n",
      "----------------------------------------------------------\n",
      "Control Experimental  -8.2903   0.0 -11.7857 -4.795   True\n",
      "----------------------------------------------------------\n"
     ]
    }
   ],
   "source": [
    "# Q11. An educational researcher is interested in whether a new teaching method improves student test\n",
    "# scores. They randomly assign 100 students to either the control group (traditional teaching method) or the\n",
    "# experimental group (new teaching method) and administer a test at the end of the semester. Conduct a\n",
    "# two-sample t-test using Python to determine if there are any significant differences in test scores\n",
    "# between the two groups. If the results are significant, follow up with a post-hoc test to determine which\n",
    "# group(s) differ significantly from each other.\n",
    "\n",
    "import scipy.stats as stat \n",
    "import numpy as np\n",
    "from statsmodels.stats.multicomp import pairwise_tukeyhsd\n",
    "\n",
    "control_group = np.random.normal(loc=50, scale=15, size=100)\n",
    "Experimental_group = np.random.normal(loc=40, scale=10, size=100)\n",
    "\n",
    "t_stats, pvalue = stat.ttest_ind(control_group,Experimental_group)\n",
    "print(\"T statistics :\", t_stats)\n",
    "print(\"P value :\", pvalue)\n",
    "\n",
    "if pvalue < 0.05:\n",
    "    print(\"The difference between the control and experimental groups is statistically significant.\\n\")\n",
    "    \n",
    "    all_data = np.concatenate([control_group, Experimental_group])\n",
    "    group_labels = ['Control'] * len(control_group) + ['Experimental'] * len(Experimental_group)\n",
    "    \n",
    "    # Perform Tukey's HSD post-hoc test\n",
    "    tukey_result = pairwise_tukeyhsd(all_data, group_labels)\n",
    "    print(\"Post-hoc test (Tukey's HSD) results:\")\n",
    "    print(tukey_result)\n",
    "    \n",
    "else:\n",
    "    print(\"The difference between the control and experimental groups is not statistically significant.\")    "
   ]
  },
  {
   "cell_type": "code",
   "execution_count": 17,
   "id": "7b152cd1-d0bd-4b80-824f-2ea13499cf1c",
   "metadata": {},
   "outputs": [
    {
     "name": "stdout",
     "output_type": "stream",
     "text": [
      "Repeated Measures ANOVA:\n",
      "            df        sum_sq     mean_sq         F    PR(>F)\n",
      "Store      2.0    586.288889  293.144444  0.305627  0.737449\n",
      "Residual  87.0  83446.600000  959.156322       NaN       NaN\n",
      "The results of the repeated measures ANOVA are not significant. No post-hoc test needed.\n"
     ]
    }
   ],
   "source": [
    "# Q12. A researcher wants to know if there are any significant differences in the average daily sales of three\n",
    "# retail stores: Store A, Store B, and Store C. They randomly select 30 days and record the sales for each store\n",
    "# on those days. Conduct a repeated measures ANOVA using Python to determine if there are any\n",
    "# significant differences in sales between the three stores. If the results are significant, follow up with a post-\n",
    "# hoc test to determine which store(s) differ significantly from each other.\n",
    "\n",
    "import numpy as np\n",
    "import statsmodels.api as sm\n",
    "from statsmodels.formula.api import ols\n",
    "from statsmodels.stats.multicomp import pairwise_tukeyhsd\n",
    "\n",
    "np.random.seed(42)\n",
    "store_a_sales = np.random.randint(50, 150, 30)\n",
    "store_b_sales = np.random.randint(40, 160, 30)\n",
    "store_c_sales = np.random.randint(55, 145, 30)\n",
    "\n",
    "\n",
    "# Perform repeated measures ANOVA\n",
    "model = ols('Sales ~ Store', data=data).fit()\n",
    "anova_table = sm.stats.anova_lm(model)\n",
    "\n",
    "print(\"Repeated Measures ANOVA:\")\n",
    "print(anova_table)\n",
    "\n",
    "if anova_table['PR(>F)'][0] < 0.05:\n",
    "    print(\"The results of the repeated measures ANOVA are significant./n\")\n",
    "    \n",
    "    Sales = np.concatenate([store_a_sales, store_b_sales, store_c_sales])\n",
    "    Store = ['A'] * 30 + ['B'] * 30 + ['C'] * 30\n",
    "    \n",
    "    # Perform Tukey's HSD post-hoc test\n",
    "    tukey_result = pairwise_tukeyhsd(Sales, Store)\n",
    "    print(\"Post-hoc test (Tukey's HSD) results:\")\n",
    "    print(tukey_result)\n",
    "    \n",
    "else:\n",
    "    print(\"The results of the repeated measures ANOVA are not significant. No post-hoc test needed.\")    "
   ]
  },
  {
   "cell_type": "code",
   "execution_count": null,
   "id": "1e30f5b2-4612-45e7-a7eb-2e2840e87382",
   "metadata": {},
   "outputs": [],
   "source": []
  }
 ],
 "metadata": {
  "kernelspec": {
   "display_name": "Python 3 (ipykernel)",
   "language": "python",
   "name": "python3"
  },
  "language_info": {
   "codemirror_mode": {
    "name": "ipython",
    "version": 3
   },
   "file_extension": ".py",
   "mimetype": "text/x-python",
   "name": "python",
   "nbconvert_exporter": "python",
   "pygments_lexer": "ipython3",
   "version": "3.10.8"
  }
 },
 "nbformat": 4,
 "nbformat_minor": 5
}
